{
 "metadata": {
  "name": "",
  "signature": "sha256:76b3614b64840ff7dbe3735ae1b9403dfb80c911b6f986ea573b722fb3d8c2bf"
 },
 "nbformat": 3,
 "nbformat_minor": 0,
 "worksheets": [
  {
   "cells": [
    {
     "cell_type": "code",
     "collapsed": false,
     "input": [
      "import pyodbc\n",
      "import pandas as pd\n",
      "import os\n",
      "#import shutil\n",
      "import numpy as np"
     ],
     "language": "python",
     "metadata": {},
     "outputs": [],
     "prompt_number": 74
    },
    {
     "cell_type": "markdown",
     "metadata": {},
     "source": [
      "###Reads folder with multiple CSV files and does vlookup on SQL and add columns and spits out each file into there own folder"
     ]
    },
    {
     "cell_type": "code",
     "collapsed": false,
     "input": [
      "cnxn = pyodbc.connect(driver = '{SQL Server}', server = 'Put server',#'nbcdprsql10',\n",
      "\t\t\t\t\t\ttrusted_connection = 'yes', unicode_results = True)"
     ],
     "language": "python",
     "metadata": {},
     "outputs": [],
     "prompt_number": 75
    },
    {
     "cell_type": "code",
     "collapsed": false,
     "input": [
      "path = r'C:\\Users\\vpatel\\Desktop\\Conservice\\Original\\7_23_2015\\Previous'\n",
      "paths = [os.path.join(path,fn) for fn in next(os.walk(path))[2]]"
     ],
     "language": "python",
     "metadata": {},
     "outputs": [],
     "prompt_number": 76
    },
    {
     "cell_type": "code",
     "collapsed": false,
     "input": [
      "for i in paths:\n",
      "    dfcsv = pd.read_csv(i)\n",
      "    val = dfcsv.iloc[0][0]\n",
      "    \n",
      "    sql = \"\"\"\n",
      "    SELECT p.PropertyID,l.ID As LeaseID,l.ResidentHouseholdID, l.BuildingName, l.UnitNumber, \n",
      "    l.BuildingName + '-' + UnitNumber As BldgUNum,\n",
      "    p.ShortName\n",
      "    FROM UDS.dbo.Lease l\n",
      "    INNER JOIN UDS.dbo.property p ON p.propertyID = l.PropertyID\n",
      "    WHERE p.propertyID = {0}\n",
      "    AND l.extracttype <> 'D'\n",
      "\n",
      "\n",
      "\t\"\"\".format(val)\n",
      "\n",
      "    dfsql = pd.read_sql(sql,cnxn)\n",
      "    \n",
      "    #print dfsql.head()\n",
      "    \n",
      "    dfmerged = dfcsv.merge(dfsql[['PropertyID','LeaseID','BldgUNum','ShortName']],\n",
      "                           how = 'left', left_on = ['SiteID','LeaID'], right_on = ['PropertyID','LeaseID'])\n",
      "    #print dfmerged.head()\n",
      "    \n",
      "    #Replace / with _ so file can save \n",
      "    val2 = (dfmerged.iloc[0][0],dfmerged.iloc[0][11].replace('/','_'))\n",
      "    \n",
      "    df_final = dfmerged[['SiteID','ReshID','LeaID','BldgUNum','TransAmt','TransDate','TransName','TransDesc']]\n",
      "    \n",
      "    os.makedirs(r'C:\\Users\\vpatel\\Desktop\\Conservice\\7_23_2015\\{0}'.format(val2[1]))\n",
      "    \n",
      "    writer = pd.ExcelWriter(r'C:\\Users\\vpatel\\Desktop\\Conservice\\7_23_2015\\{1}\\{0}_{1}_PreviousCharges.xlsx'.format(val2[0],val2[1]))\n",
      "    df_final.to_excel(writer, 'Data', index=False)\n",
      "    writer.save()\n",
      "    \n",
      "    "
     ],
     "language": "python",
     "metadata": {},
     "outputs": [],
     "prompt_number": 78
    }
   ],
   "metadata": {}
  }
 ]
}