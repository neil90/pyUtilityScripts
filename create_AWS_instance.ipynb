{
 "metadata": {
  "name": "",
  "signature": "sha256:aceda86d5bfba8a7b29e51800f77f605921ee79930c6b668cd018eff53f43c91"
 },
 "nbformat": 3,
 "nbformat_minor": 0,
 "worksheets": [
  {
   "cells": [
    {
     "cell_type": "code",
     "collapsed": false,
     "input": [
      "import json\n",
      "import re\n",
      "import boto.ec2"
     ],
     "language": "python",
     "metadata": {},
     "outputs": [],
     "prompt_number": 1
    },
    {
     "cell_type": "code",
     "collapsed": false,
     "input": [
      "#open Json file with my region,awsid, and awskey\n",
      "with open(r'C:\\aws\\awsinfo.json') as data_file:    \n",
      "    awsinfo = json.load(data_file)"
     ],
     "language": "python",
     "metadata": {},
     "outputs": [],
     "prompt_number": 2
    },
    {
     "cell_type": "code",
     "collapsed": false,
     "input": [
      "conn = boto.ec2.connect_to_region(awsinfo['region'],\n",
      "                        aws_access_key_id = awsinfo['aws_access_key_id'],\n",
      "                        aws_secret_access_key= awsinfo['aws_secret_access_key'])"
     ],
     "language": "python",
     "metadata": {},
     "outputs": [],
     "prompt_number": 3
    },
    {
     "cell_type": "code",
     "collapsed": false,
     "input": [
      "#Create group so we can SSH into server once its created\n",
      "#Comment this cell block out if you already have a sg you can assign\n",
      "try:\n",
      "    ssh = conn.create_security_group('SSH', 'SSH Port')\n",
      "    web.authorize('tcp', 22, 22, '0.0.0.0/0')\n",
      "except Exception, e: #it'll raise this exception if you already have a sg called SSH\n",
      "        print str(e)\n",
      "        pass"
     ],
     "language": "python",
     "metadata": {},
     "outputs": [
      {
       "output_type": "stream",
       "stream": "stderr",
       "text": [
        "ERROR:boto:400 Bad Request\n"
       ]
      },
      {
       "output_type": "stream",
       "stream": "stderr",
       "text": [
        "ERROR:boto:<?xml version=\"1.0\" encoding=\"UTF-8\"?>\n",
        "<Response><Errors><Error><Code>InvalidGroup.Duplicate</Code><Message>The security group 'SSH' already exists for VPC 'vpc-3d992258'</Message></Error></Errors><RequestID>53569057-97c8-4572-8eaa-b2f551df514b</RequestID></Response>\n"
       ]
      },
      {
       "output_type": "stream",
       "stream": "stdout",
       "text": [
        "EC2ResponseError: 400 Bad Request\n",
        "<?xml version=\"1.0\" encoding=\"UTF-8\"?>\n",
        "<Response><Errors><Error><Code>InvalidGroup.Duplicate</Code><Message>The security group 'SSH' already exists for VPC 'vpc-3d992258'</Message></Error></Errors><RequestID>53569057-97c8-4572-8eaa-b2f551df514b</RequestID></Response>\n"
       ]
      }
     ],
     "prompt_number": 10
    },
    {
     "cell_type": "code",
     "collapsed": false,
     "input": [
      "#AMI image you want to use\n",
      "#I set the one I used to public so you should be able to use this one, 30gigs EBS\n",
      "AMI = 'ami-0fedea3f'\n",
      "\n",
      "#Launch instance\n",
      "conn.run_instances(\n",
      "        AMI,\n",
      "        key_name='neilkey',\n",
      "        instance_type='t2.medium', #not a free size on AWS tier \n",
      "        security_groups=['SSH']) #assign SSH security group"
     ],
     "language": "python",
     "metadata": {},
     "outputs": [
      {
       "metadata": {},
       "output_type": "pyout",
       "prompt_number": 125,
       "text": [
        "Reservation:r-9b3c8352"
       ]
      }
     ],
     "prompt_number": 125
    },
    {
     "cell_type": "code",
     "collapsed": false,
     "input": [
      "#function to get a list of all the instance you have currently\n",
      "def get_instances():\n",
      "    return conn.get_only_instances()"
     ],
     "language": "python",
     "metadata": {},
     "outputs": [],
     "prompt_number": 14
    },
    {
     "cell_type": "code",
     "collapsed": false,
     "input": [
      "#Display only instances so we can find the one we just created\n",
      "#It won't have a name\n",
      "newinstance = []\n",
      "for instance in get_instances():\n",
      "    if bool(instance.tags) == False:\n",
      "        print 'Instance id:', instance.id , \" is \", instance.state\n",
      "        newinstance = instance.id\n",
      "        "
     ],
     "language": "python",
     "metadata": {},
     "outputs": [],
     "prompt_number": 17
    },
    {
     "cell_type": "code",
     "collapsed": false,
     "input": [
      "#Name for your newly created instance\n",
      "iname = 'Spark Node 1'\n",
      "\n",
      "#Put the instance ID in here and name your node\n",
      "conn.create_tags(newinstance, {'Name': iname})"
     ],
     "language": "python",
     "metadata": {},
     "outputs": [
      {
       "metadata": {},
       "output_type": "pyout",
       "prompt_number": 180,
       "text": [
        "True"
       ]
      }
     ],
     "prompt_number": 180
    },
    {
     "cell_type": "code",
     "collapsed": false,
     "input": [
      "#function to get the public dns,Ip of the new node\n",
      "def get_ip(nodes, name):\n",
      "    for i in get_instances():\n",
      "        if i.tags['Name'] == name:\n",
      "            ip = re.search(r'^(\\w+-)([0-9-]+)',i.public_dns_name).group(2)\n",
      "            return (i.public_dns_name, ip, i)"
     ],
     "language": "python",
     "metadata": {},
     "outputs": [],
     "prompt_number": 18
    },
    {
     "cell_type": "code",
     "collapsed": false,
     "input": [
      "ec2dns, ec2ip, i = get_ip(newinstance,iname)\n",
      "print ec2dns\n",
      "print ec2ip"
     ],
     "language": "python",
     "metadata": {},
     "outputs": [
      {
       "ename": "NameError",
       "evalue": "name 'iname' is not defined",
       "output_type": "pyerr",
       "traceback": [
        "\u001b[1;31m---------------------------------------------------------------------------\u001b[0m\n\u001b[1;31mNameError\u001b[0m                                 Traceback (most recent call last)",
        "\u001b[1;32m<ipython-input-20-294d7be2be2c>\u001b[0m in \u001b[0;36m<module>\u001b[1;34m()\u001b[0m\n\u001b[1;32m----> 1\u001b[1;33m \u001b[0mec2dns\u001b[0m\u001b[1;33m,\u001b[0m \u001b[0mec2ip\u001b[0m\u001b[1;33m,\u001b[0m \u001b[0mi\u001b[0m \u001b[1;33m=\u001b[0m \u001b[0mget_ip\u001b[0m\u001b[1;33m(\u001b[0m\u001b[0mnewinstance\u001b[0m\u001b[1;33m,\u001b[0m\u001b[0miname\u001b[0m\u001b[1;33m)\u001b[0m\u001b[1;33m\u001b[0m\u001b[0m\n\u001b[0m\u001b[0;32m      2\u001b[0m \u001b[1;32mprint\u001b[0m \u001b[0mec2dns\u001b[0m\u001b[1;33m\u001b[0m\u001b[0m\n\u001b[0;32m      3\u001b[0m \u001b[1;32mprint\u001b[0m \u001b[0mec2ip\u001b[0m\u001b[1;33m\u001b[0m\u001b[0m\n",
        "\u001b[1;31mNameError\u001b[0m: name 'iname' is not defined"
       ]
      }
     ],
     "prompt_number": 20
    }
   ],
   "metadata": {}
  }
 ]
}