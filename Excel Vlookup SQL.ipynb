{
 "metadata": {
  "name": "",
  "signature": "sha256:baa1eb2722b44677b484e2f76314311a769852733f34c7ae251a04ff13a73e9f"
 },
 "nbformat": 3,
 "nbformat_minor": 0,
 "worksheets": [
  {
   "cells": [
    {
     "cell_type": "code",
     "collapsed": false,
     "input": [
      "import pyodbc\n",
      "import pandas as pd\n",
      "import os\n",
      "import numpy as np\n"
     ],
     "language": "python",
     "metadata": {},
     "outputs": [],
     "prompt_number": 128
    },
    {
     "cell_type": "markdown",
     "metadata": {},
     "source": [
      "###Simple script that reads csv does vlookup on SQL and add column(s) and splits out multiple xlsx files based on ID column"
     ]
    },
    {
     "cell_type": "code",
     "collapsed": false,
     "input": [
      "cnxn = pyodbc.connect(driver = '{SQL Server}', server = 'Put server',#,\n",
      "\t\t\t\t\t\ttrusted_connection = 'yes', unicode_results = True)\n",
      "\n",
      "sql = \"\"\"\n",
      "SELECT p.PropertyID,l.ID As LeaseID,l.ResidentHouseholdID, l.BuildingName, l.UnitNumber, l.BuildingName + '-' + UnitNumber As BldgUNum,\n",
      "p.ShortName\n",
      "FROM UDS.dbo.Lease l\n",
      "INNER JOIN UDS.dbo.property p ON p.propertyID = l.PropertyID\n",
      "\n",
      "\n",
      "\n",
      "\t\"\"\"\n",
      "\n",
      "dfsql = pd.read_sql(sql,cnxn)"
     ],
     "language": "python",
     "metadata": {},
     "outputs": [],
     "prompt_number": 129
    },
    {
     "cell_type": "code",
     "collapsed": false,
     "input": [
      "csvf = r'C:\\file.csv'\n",
      "dfpropcsv = pd.read_csv(csvf)\n"
     ],
     "language": "python",
     "metadata": {},
     "outputs": [],
     "prompt_number": 131
    },
    {
     "cell_type": "code",
     "collapsed": false,
     "input": [
      "dfmerged = dfpropcsv.merge(dfsql[['PropertyID','LeaseID','BldgUNum','ShortName']],\n",
      "                           how = 'left', left_on = ['PropID','LeaID'], right_on = ['PropertyID','LeaseID'])"
     ],
     "language": "python",
     "metadata": {},
     "outputs": [],
     "prompt_number": 133
    },
    {
     "cell_type": "code",
     "collapsed": false,
     "input": [
      "df_final = dfmerged[['PropID','ReshID','LeaID','BldgUNum','TransAmt','TransDate','TransName','TransDesc','ShortName']]\n"
     ],
     "language": "python",
     "metadata": {},
     "outputs": [],
     "prompt_number": 134
    },
    {
     "cell_type": "code",
     "collapsed": false,
     "input": [
      "xy = zip(df_final['PropID'].unique(),df_final['ShortName'].unique())\n",
      "xy = [(x,y.replace('/','_')) for x,y in xy]\n",
      "#list(shortname)\n",
      "#shortname = np_f.replace(shortname,'\\\\' , '_')\n",
      "#shortname = [s.replace('/,' , '_') for s in list(shortname)]"
     ],
     "language": "python",
     "metadata": {},
     "outputs": [],
     "prompt_number": 135
    },
    {
     "cell_type": "code",
     "collapsed": false,
     "input": [
      "df_final2 = df_final[['PropID','ReshID','LeaID','BldgUNum','TransAmt','TransDate','TransName','TransDesc']]\n",
      "for i in xy:\n",
      "    writer = pd.ExcelWriter(r'C:\\Users\\vpatel\\Desktop\\Conservice\\7_23_2015\\{1}\\{0}_{1}_CurrentCharges.xlsx'.format(i[0],i[1]))\n",
      "    df_final.loc[df_final['PropID'] == i[0]].to_excel(writer, 'Data', index=False)\n",
      "    writer.save()"
     ],
     "language": "python",
     "metadata": {},
     "outputs": [],
     "prompt_number": 137
    }
   ],
   "metadata": {}
  }
 ]
}